{
 "cells": [
  {
   "cell_type": "markdown",
   "metadata": {},
   "source": [
    "Reference Code:\n",
    "https://machinelearningmastery.com/multi-class-classification-tutorial-keras-deep-learning-library/"
   ]
  },
  {
   "cell_type": "code",
   "execution_count": 29,
   "metadata": {},
   "outputs": [],
   "source": [
    "import numpy as np\n",
    "import pandas as pd\n",
    "from keras.models import Sequential\n",
    "from keras import backend as K\n",
    "from keras.layers import Dense, Dropout, Activation\n",
    "\n",
    "from keras.wrappers.scikit_learn import KerasClassifier\n",
    "from keras.utils import np_utils\n",
    "from sklearn.model_selection import cross_val_score\n",
    "from sklearn.model_selection import KFold\n",
    "from sklearn.preprocessing import LabelEncoder\n",
    "from sklearn.pipeline import Pipeline\n",
    "from sklearn import datasets"
   ]
  },
  {
   "cell_type": "code",
   "execution_count": 2,
   "metadata": {},
   "outputs": [],
   "source": [
    "# fix random seed for reproducibility\n",
    "seed = 7\n",
    "np.random.seed(seed)\n",
    "iris = datasets.load_iris()"
   ]
  },
  {
   "cell_type": "code",
   "execution_count": 3,
   "metadata": {},
   "outputs": [],
   "source": [
    "url = \"http://archive.ics.uci.edu/ml/machine-learning-databases/iris/iris.data\"\n",
    "dataframe = pd.read_csv(url,header=None)\n",
    "dataset = dataframe.values\n",
    "X = dataset[:,0:4].astype(float)\n",
    "Y = dataset[:,4]\n",
    "\n",
    "from sklearn.datasets import load_iris\n",
    "iris  = load_iris()\n",
    "df = pd.DataFrame(iris.data)\n",
    "target = pd.DataFrame(iris.target)"
   ]
  },
  {
   "cell_type": "code",
   "execution_count": 4,
   "metadata": {},
   "outputs": [],
   "source": [
    "# encode class values as integers\n",
    "encoder = LabelEncoder()\n",
    "encoder.fit(Y)\n",
    "encoded_Y = encoder.transform(Y)\n",
    "# convert integers to dummy variables (i.e. one hot encoded)\n",
    "dummy_y = np_utils.to_categorical(encoded_Y)"
   ]
  },
  {
   "cell_type": "code",
   "execution_count": 20,
   "metadata": {},
   "outputs": [
    {
     "name": "stdout",
     "output_type": "stream",
     "text": [
      "Baseline_logistic: 96.00% (5.33%)\n",
      "Baseline_svm: 90.00% (16.67%)\n"
     ]
    }
   ],
   "source": [
    "# define baseline model\n",
    "def baseline_model_logistic():\n",
    "    # create model\n",
    "    model = Sequential()\n",
    "    model.add(Dense(8, input_dim=4, activation='relu'))\n",
    "    model.add(Dropout(0.2))\n",
    "    model.add(Dense(16, input_dim=8, activation='relu'))\n",
    "    model.add(Dropout(0.2))\n",
    "    model.add(Dense(3, activation='softmax'))\n",
    "    # Compile model\n",
    "    model.compile(loss='categorical_crossentropy', optimizer='adam', metrics=['accuracy'])\n",
    "    return model\n",
    "# define baseline model\n",
    "def baseline_model_svm():\n",
    "    # create model\n",
    "    model = Sequential()\n",
    "    model.add(Dense(8, input_dim=4, activation='relu'))\n",
    "    model.add(Dropout(0.2))\n",
    "    model.add(Dense(16, input_dim=8, activation='relu'))\n",
    "    model.add(Dropout(0.2))\n",
    "    model.add(Dense(3, activation='softmax'))\n",
    "    # Compile model\n",
    "    # model.compile(loss='categorical_crossentropy', optimizer='adam', metrics=['accuracy'])\n",
    "    model.compile(loss='categorical_hinge', optimizer='adam', metrics=['accuracy'])\n",
    "    return model\n",
    "estimator_b1 = KerasClassifier(build_fn=baseline_model_logistic, epochs=200, batch_size=5, verbose=0)\n",
    "estimator_b2 = KerasClassifier(build_fn=baseline_model_svm, epochs=200, batch_size=5, verbose=0)\n",
    "kfold_b1 = KFold(n_splits=10, shuffle=True, random_state=seed)\n",
    "results_b1 = cross_val_score(estimator_b1, X, dummy_y, cv=kfold_b1)\n",
    "print(\"Baseline_logistic: %.2f%% (%.2f%%)\" % (results_b1.mean()*100, results_b1.std()*100))\n",
    "kfold_b2 = KFold(n_splits=10, shuffle=True, random_state=seed)\n",
    "results_b2 = cross_val_score(estimator_b2, X, dummy_y, cv=kfold_b2)\n",
    "print(\"Baseline_svm: %.2f%% (%.2f%%)\" % (results_b2.mean()*100, results_b2.std()*100))"
   ]
  },
  {
   "cell_type": "markdown",
   "metadata": {},
   "source": [
    "Add a Mallows penalty - to coerc ordinality in the predicted classification probabilities"
   ]
  },
  {
   "cell_type": "code",
   "execution_count": 31,
   "metadata": {},
   "outputs": [
    {
     "name": "stdout",
     "output_type": "stream",
     "text": [
      "Baseline_ord: 96.00% (6.80%)\n"
     ]
    }
   ],
   "source": [
    "# WIP\n",
    "# custom_loss = loss + penalty \n",
    "# penalty is Mallow's loss. d_ij = C|i-j|, where i and j are two labels\n",
    "# loss can be any loss suitable for classification such as cross_entropy\n",
    "\n",
    "def logistic_with_mallows(y_true, y_pred, alpha=100):\n",
    "    loss = K.categorical_crossentropy(y_true, y_pred)\n",
    "    penalty = K.mean(K.square( K.cumsum(y_pred - y_true)), axis=-1)\n",
    "    return loss + (alpha*penalty)\n",
    "\n",
    "def ordinal_model_logistic():\n",
    "    # create model\n",
    "    model = Sequential()\n",
    "    model.add(Dense(8, input_dim=4, activation='relu'))\n",
    "    model.add(Dropout(0.2))\n",
    "    model.add(Dense(16, input_dim=8, activation='relu'))\n",
    "    model.add(Dropout(0.2))\n",
    "    model.add(Dense(3, activation='softmax'))\n",
    "    # Compile model\n",
    "    model.compile(loss=lambda y_true,y_pred: logistic_with_mallows(y_true,y_pred,1), optimizer='adam', metrics=['accuracy'])\n",
    "    return model\n",
    "estimator_e1 = KerasClassifier(build_fn=ordinal_model_logistic, epochs=200, batch_size=10, verbose=0)\n",
    "kfold_e1 = KFold(n_splits=10, shuffle=True, random_state=seed)\n",
    "results_e1 = cross_val_score(estimator_e1, X, dummy_y, cv=kfold_e1)\n",
    "print(\"Baseline_ord: %.2f%% (%.2f%%)\" % (results_e1.mean()*100, results_e1.std()*100))"
   ]
  },
  {
   "cell_type": "code",
   "execution_count": 22,
   "metadata": {},
   "outputs": [
    {
     "name": "stdout",
     "output_type": "stream",
     "text": [
      "Baseline_svm: 97.33% (3.27%)\n",
      "Baseline_Lin_svm: 93.33% (8.94%)\n",
      "Baseline_rbf_svm: 97.33% (4.42%)\n",
      "Baseline_poly_svm: 94.00% (6.96%)\n"
     ]
    }
   ],
   "source": [
    "C = 1.0  # SVM regularization parameter\n",
    "from sklearn import svm\n",
    "# SVC with linear kernel\n",
    "svc = svm.SVC(kernel='linear', C=C)\n",
    "results_a1 = cross_val_score(svc, X, Y, cv=kfold_b1)\n",
    "print(\"Baseline_svm: %.2f%% (%.2f%%)\" % (results_a1.mean()*100, results_a1.std()*100))\n",
    "lin_svc = svm.LinearSVC(C=C)\n",
    "results_a1 = cross_val_score(lin_svc, X, Y, cv=kfold_b1)\n",
    "print(\"Baseline_Lin_svm: %.2f%% (%.2f%%)\" % (results_a1.mean()*100, results_a1.std()*100))\n",
    "rbf_svc = svm.SVC(kernel='rbf', gamma=0.7, C=C)\n",
    "results_a1 = cross_val_score(rbf_svc, X, Y, cv=kfold_b1)\n",
    "print(\"Baseline_rbf_svm: %.2f%% (%.2f%%)\" % (results_a1.mean()*100, results_a1.std()*100))\n",
    "poly_svc = svm.SVC(kernel='poly', degree=3, C=C)\n",
    "results_a1 = cross_val_score(poly_svc, X, Y, cv=kfold_b1)\n",
    "print(\"Baseline_poly_svm: %.2f%% (%.2f%%)\" % (results_a1.mean()*100, results_a1.std()*100))"
   ]
  },
  {
   "cell_type": "code",
   "execution_count": 23,
   "metadata": {},
   "outputs": [
    {
     "name": "stdout",
     "output_type": "stream",
     "text": [
      "linear SVC: 0.993333333333\n",
      "rbf SVC: 0.98\n",
      "poly SVC: 0.98\n"
     ]
    }
   ],
   "source": [
    "C = 1.0  # SVM regularization parameter\n",
    "from sklearn import svm\n",
    "# SVC with linear kernel\n",
    "svc = svm.SVC(kernel='linear', C=C).fit(X, Y)\n",
    "# LinearSVC (linear kernel)\n",
    "lin_svc = svm.LinearSVC(C=C).fit(X, Y)\n",
    "# SVC with RBF kernel\n",
    "rbf_svc = svm.SVC(kernel='rbf', gamma=0.7, C=C).fit(X, Y)\n",
    "# SVC with polynomial (degree 3) kernel\n",
    "poly_svc = svm.SVC(kernel='poly', degree=3, C=C).fit(X, Y)\n",
    "print(\"linear SVC: \" + str(svc.score(X, Y)))\n",
    "print(\"rbf SVC: \" + str(rbf_svc.score(X, Y)))\n",
    "print(\"poly SVC: \" + str(poly_svc.score(X, Y)))"
   ]
  },
  {
   "cell_type": "code",
   "execution_count": 40,
   "metadata": {},
   "outputs": [
    {
     "name": "stdout",
     "output_type": "stream",
     "text": [
      "                0           1           2           3\n",
      "count  150.000000  150.000000  150.000000  150.000000\n",
      "mean    -0.142593   -0.121667   -0.064859   -0.084444\n",
      "std      0.460037    0.361329    0.598109    0.635967\n",
      "min     -1.000000   -1.000000   -1.000000   -1.000000\n",
      "25%     -0.555556   -0.333333   -0.796610   -0.833333\n",
      "50%     -0.166667   -0.166667    0.135593    0.000000\n",
      "75%      0.166667    0.083333    0.389831    0.416667\n",
      "max      1.000000    1.000000    1.000000    1.000000\n"
     ]
    }
   ],
   "source": [
    "from sklearn.datasets import load_iris\n",
    "iris  = load_iris()\n",
    "df = pd.DataFrame(iris.data)\n",
    "target = pd.DataFrame(iris.target)\n",
    "\n",
    "# standardize features (rescale to -1 to 1)\n",
    "df=(df-df.min())/(df.max()-df.min())\n",
    "df = (2*df-1)\n",
    "print(df.describe())"
   ]
  }
 ],
 "metadata": {
  "kernelspec": {
   "display_name": "Python 3",
   "language": "python",
   "name": "python3"
  },
  "language_info": {
   "codemirror_mode": {
    "name": "ipython",
    "version": 3
   },
   "file_extension": ".py",
   "mimetype": "text/x-python",
   "name": "python",
   "nbconvert_exporter": "python",
   "pygments_lexer": "ipython3",
   "version": "3.6.0"
  }
 },
 "nbformat": 4,
 "nbformat_minor": 2
}
