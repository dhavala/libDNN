{
 "cells": [
  {
   "cell_type": "markdown",
   "metadata": {},
   "source": [
    "We consider Matrix-Factorization based Colloboarative filtering problem. Instead of estimating the latent features, we sample random features, and learn a functional of those non-linear features via DNNs to predict the ratings.\n",
    "\n",
    "Problem structure is that of Movie Lens Recommender System.\n",
    "\n",
    "1) Analysis of Random Binning\n",
    "http://www.kdd.org/kdd2016/papers/files/rfp0942-wuA.pdf\n",
    "2) Nueral Non-negative Matrix Factorization\n",
    "https://arxiv.org/pdf/1511.06443.pdf\n",
    "3) SVIF extension of Nueral Non-negative Matrix Factorization\n",
    "https://www.cs.toronto.edu/~jstolee/projects/matrix_factorization_neural.pdf\n",
    "4) Nueral Factorization Machine\n",
    "https://arxiv.org/pdf/1708.05027.pdf\n",
    "https://github.com/hexiangnan/neural_factorization_machine"
   ]
  },
  {
   "cell_type": "code",
   "execution_count": null,
   "metadata": {},
   "outputs": [],
   "source": []
  }
 ],
 "metadata": {
  "kernelspec": {
   "display_name": "Python 3",
   "language": "python",
   "name": "python3"
  },
  "language_info": {
   "codemirror_mode": {
    "name": "ipython",
    "version": 3
   },
   "file_extension": ".py",
   "mimetype": "text/x-python",
   "name": "python",
   "nbconvert_exporter": "python",
   "pygments_lexer": "ipython3",
   "version": "3.6.0"
  }
 },
 "nbformat": 4,
 "nbformat_minor": 2
}
