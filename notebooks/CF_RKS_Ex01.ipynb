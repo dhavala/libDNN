{
 "cells": [
  {
   "cell_type": "markdown",
   "metadata": {},
   "source": [
    "A Non-linear Colloborative Filtering (MF) implementation in Keras. Problem structure is that of Movie Lens Recommender System. User and Item embeddings are mapped to non-linear random feature maps, and linear functional is used to drive the signal.\n",
    "\n",
    "1)Plain CF Keras implementation\n",
    "http://www.fenris.org/2016/03/07/index-html\n",
    "\n",
    "2) CF and its extension\n",
    "https://github.com/bradleypallen/keras-movielens-cf\n",
    "\n",
    "3) Analysis of Random Binning\n",
    "http://www.kdd.org/kdd2016/papers/files/rfp0942-wuA.pdf\n",
    "\n",
    "4) Nueral Non-negative Matrix Factorization\n",
    "https://arxiv.org/pdf/1511.06443.pdf\n",
    "\n",
    "5) SVIF extension of Nueral Non-negative Matrix Factorization\n",
    "https://www.cs.toronto.edu/~jstolee/projects/matrix_factorization_neural.pdf\n",
    "\n",
    "6) Nueral Factorization Machine\n",
    "https://arxiv.org/pdf/1708.05027.pdf\n",
    "https://github.com/hexiangnan/neural_factorization_machine\n",
    "\n",
    "7) Random Kitcen Sinks\n",
    "https://people.eecs.berkeley.edu/~brecht/papers/08.rah.rec.nips.pdf\n",
    "\n",
    "8) Extreme Machine Learning with Single Layer FeedForward Network (SLFN)\n",
    "http://citeseerx.ist.psu.edu/viewdoc/download?doi=10.1.1.217.5697&rep=rep1&type=pdf"
   ]
  },
  {
   "cell_type": "code",
   "execution_count": 1,
   "metadata": {},
   "outputs": [
    {
     "name": "stderr",
     "output_type": "stream",
     "text": [
      "Using TensorFlow backend.\n",
      "/usr/local/Cellar/python3/3.6.0_1/Frameworks/Python.framework/Versions/3.6/lib/python3.6/importlib/_bootstrap.py:205: RuntimeWarning: compiletime version 3.5 of module 'tensorflow.python.framework.fast_tensor_util' does not match runtime version 3.6\n",
      "  return f(*args, **kwds)\n"
     ]
    }
   ],
   "source": [
    "%matplotlib inline\n",
    "import math\n",
    "import pandas as pd\n",
    "import numpy as np\n",
    "import matplotlib.pyplot as plt\n",
    "\n",
    "from math import pi\n",
    "\n",
    "from surprise import Dataset\n",
    "\n",
    "\n",
    "from keras.models import Sequential\n",
    "from keras.layers import Dense, Dropout, Activation, Embedding, Reshape, Merge, Concatenate\n",
    "from keras import backend as K\n",
    "from keras.wrappers.scikit_learn import KerasClassifier\n",
    "from keras.utils import np_utils\n",
    "\n",
    "\n",
    "from sklearn.model_selection import cross_val_score\n",
    "from sklearn.model_selection import KFold\n",
    "from sklearn.preprocessing import LabelEncoder\n",
    "from sklearn.pipeline import Pipeline\n",
    "from sklearn import datasets\n",
    "\n",
    "from scipy import stats"
   ]
  },
  {
   "cell_type": "code",
   "execution_count": 2,
   "metadata": {},
   "outputs": [
    {
     "data": {
      "text/html": [
       "<div>\n",
       "<style scoped>\n",
       "    .dataframe tbody tr th:only-of-type {\n",
       "        vertical-align: middle;\n",
       "    }\n",
       "\n",
       "    .dataframe tbody tr th {\n",
       "        vertical-align: top;\n",
       "    }\n",
       "\n",
       "    .dataframe thead th {\n",
       "        text-align: right;\n",
       "    }\n",
       "</style>\n",
       "<table border=\"1\" class=\"dataframe\">\n",
       "  <thead>\n",
       "    <tr style=\"text-align: right;\">\n",
       "      <th></th>\n",
       "      <th>userid</th>\n",
       "      <th>movieid</th>\n",
       "      <th>rating</th>\n",
       "      <th>timestamp</th>\n",
       "      <th>user_emb_id</th>\n",
       "      <th>movie_emb_id</th>\n",
       "    </tr>\n",
       "  </thead>\n",
       "  <tbody>\n",
       "    <tr>\n",
       "      <th>0</th>\n",
       "      <td>196</td>\n",
       "      <td>242</td>\n",
       "      <td>3.0</td>\n",
       "      <td>881250949</td>\n",
       "      <td>195</td>\n",
       "      <td>241</td>\n",
       "    </tr>\n",
       "    <tr>\n",
       "      <th>1</th>\n",
       "      <td>186</td>\n",
       "      <td>302</td>\n",
       "      <td>3.0</td>\n",
       "      <td>891717742</td>\n",
       "      <td>185</td>\n",
       "      <td>301</td>\n",
       "    </tr>\n",
       "    <tr>\n",
       "      <th>2</th>\n",
       "      <td>22</td>\n",
       "      <td>377</td>\n",
       "      <td>1.0</td>\n",
       "      <td>878887116</td>\n",
       "      <td>21</td>\n",
       "      <td>376</td>\n",
       "    </tr>\n",
       "    <tr>\n",
       "      <th>3</th>\n",
       "      <td>244</td>\n",
       "      <td>51</td>\n",
       "      <td>2.0</td>\n",
       "      <td>880606923</td>\n",
       "      <td>243</td>\n",
       "      <td>50</td>\n",
       "    </tr>\n",
       "    <tr>\n",
       "      <th>4</th>\n",
       "      <td>166</td>\n",
       "      <td>346</td>\n",
       "      <td>1.0</td>\n",
       "      <td>886397596</td>\n",
       "      <td>165</td>\n",
       "      <td>345</td>\n",
       "    </tr>\n",
       "  </tbody>\n",
       "</table>\n",
       "</div>"
      ],
      "text/plain": [
       "   userid  movieid  rating  timestamp  user_emb_id  movie_emb_id\n",
       "0     196      242     3.0  881250949          195           241\n",
       "1     186      302     3.0  891717742          185           301\n",
       "2      22      377     1.0  878887116           21           376\n",
       "3     244       51     2.0  880606923          243            50\n",
       "4     166      346     1.0  886397596          165           345"
      ]
     },
     "execution_count": 2,
     "metadata": {},
     "output_type": "execute_result"
    }
   ],
   "source": [
    "# get a list of (user_id,item_id,rating, time_stamp)\n",
    "data = Dataset.load_builtin('ml-100k')\n",
    "# convert into into a pd data frame\n",
    "df = pd.DataFrame(data.raw_ratings, columns=['userid', 'movieid','rating','timestamp'])\n",
    "# create unique id for user and movie\n",
    "df['userid'] = pd.to_numeric(df['userid'])\n",
    "df['movieid'] = pd.to_numeric(df['movieid'])\n",
    "df['user_emb_id'] = df['userid'] - 1\n",
    "df['movie_emb_id'] = df['movieid'] - 1\n",
    "df['rating'] = pd.to_numeric(df['rating'])\n",
    "df.head()"
   ]
  },
  {
   "cell_type": "code",
   "execution_count": 3,
   "metadata": {},
   "outputs": [
    {
     "name": "stdout",
     "output_type": "stream",
     "text": [
      "100000 ratings loaded.\n",
      "# of users: 943\n",
      "# of items: 1682\n",
      "# of users: 942\n",
      "# of items: 1681\n",
      "1682\n"
     ]
    }
   ],
   "source": [
    "K_FACTORS = 100\n",
    "RNG_SEED = 1446557\n",
    "D_RKS = 1000\n",
    "\n",
    "max_userid = df['userid'].drop_duplicates().max()\n",
    "max_movieid = df['movieid'].drop_duplicates().max()\n",
    "print(str(len(df))+ ' ratings loaded.')\n",
    "print('# of users: ' + str(max_userid))\n",
    "print('# of items: ' + str(max_movieid))\n",
    "max_emb_userid = df['user_emb_id'].drop_duplicates().max()\n",
    "max_emb_movieid = df['movie_emb_id'].drop_duplicates().max()\n",
    "print('# of users: ' + str(max_emb_userid))\n",
    "print('# of items: ' + str(max_emb_movieid))\n",
    "print(df['movieid'].max())"
   ]
  },
  {
   "cell_type": "code",
   "execution_count": 4,
   "metadata": {},
   "outputs": [
    {
     "name": "stdout",
     "output_type": "stream",
     "text": [
      "Users shape =(100000,)\n",
      "Movies shape =(100000,)\n",
      "Ratings shape =(100000, 6)\n",
      "[304 902 928 902  57]\n",
      "[ 732 1069  134   88  432]\n",
      "[ 3.  4.  5.  4.  5.]\n"
     ]
    }
   ],
   "source": [
    "shuffled_df = df.sample(frac=1., random_state=RNG_SEED)\n",
    "Users = shuffled_df['user_emb_id'].values\n",
    "print('Users shape ='+ str(Users.shape))\n",
    "Movies = shuffled_df['movie_emb_id'].values\n",
    "print('Movies shape ='+ str(Movies.shape))\n",
    "Ratings = shuffled_df['rating'].values\n",
    "print('Ratings shape ='+str(df.shape))\n",
    "print(Users[:5])\n",
    "print(Movies[:5])\n",
    "print(Ratings[:5])"
   ]
  },
  {
   "cell_type": "code",
   "execution_count": 5,
   "metadata": {},
   "outputs": [
    {
     "name": "stdout",
     "output_type": "stream",
     "text": [
      "Evaluating RMSE, MAE of algorithm SVD.\n",
      "\n",
      "------------\n",
      "Fold 1\n",
      "RMSE: 0.9563\n",
      "MAE:  0.7574\n",
      "------------\n",
      "Fold 2\n",
      "RMSE: 0.9582\n",
      "MAE:  0.7559\n",
      "------------\n",
      "------------\n",
      "Mean RMSE: 0.9572\n",
      "Mean MAE : 0.7566\n",
      "------------\n",
      "------------\n",
      "        Fold 1  Fold 2  Mean    \n",
      "RMSE    0.9563  0.9582  0.9572  \n",
      "MAE     0.7574  0.7559  0.7566  \n"
     ]
    }
   ],
   "source": [
    "# baseline\n",
    "from surprise import SVD\n",
    "from surprise import evaluate, print_perf\n",
    "# We'll use the famous SVD algorithm.\n",
    "data.split(n_folds=2)\n",
    "algo = SVD()\n",
    "# Evaluate performances of our algorithm on the dataset.\n",
    "perf = evaluate(algo, data, measures=['RMSE', 'MAE'])\n",
    "print_perf(perf)"
   ]
  },
  {
   "cell_type": "code",
   "execution_count": 12,
   "metadata": {},
   "outputs": [
    {
     "name": "stdout",
     "output_type": "stream",
     "text": [
      "__________________________________________________________________________________________________\n",
      "Layer (type)                    Output Shape         Param #     Connected to                     \n",
      "==================================================================================================\n",
      "input_5 (InputLayer)            (None, 1)            0                                            \n",
      "__________________________________________________________________________________________________\n",
      "input_6 (InputLayer)            (None, 1)            0                                            \n",
      "__________________________________________________________________________________________________\n",
      "embedding_5 (Embedding)         (None, 1, 100)       94300       input_5[0][0]                    \n",
      "__________________________________________________________________________________________________\n",
      "embedding_6 (Embedding)         (None, 1, 100)       168200      input_6[0][0]                    \n",
      "__________________________________________________________________________________________________\n",
      "dense_7 (Dense)                 (None, 1, 1000)      101000      embedding_5[0][0]                \n",
      "__________________________________________________________________________________________________\n",
      "dense_8 (Dense)                 (None, 1, 1000)      101000      embedding_6[0][0]                \n",
      "__________________________________________________________________________________________________\n",
      "flatten_5 (Flatten)             (None, 1000)         0           dense_7[0][0]                    \n",
      "__________________________________________________________________________________________________\n",
      "flatten_6 (Flatten)             (None, 1000)         0           dense_8[0][0]                    \n",
      "__________________________________________________________________________________________________\n",
      "concatenate_3 (Concatenate)     (None, 2000)         0           flatten_5[0][0]                  \n",
      "                                                                 flatten_6[0][0]                  \n",
      "__________________________________________________________________________________________________\n",
      "dense_9 (Dense)                 (None, 1)            2001        concatenate_3[0][0]              \n",
      "==================================================================================================\n",
      "Total params: 466,501\n",
      "Trainable params: 264,501\n",
      "Non-trainable params: 202,000\n",
      "__________________________________________________________________________________________________\n",
      "__________________________________________________________________________________________________\n",
      "Layer (type)                    Output Shape         Param #     Connected to                     \n",
      "==================================================================================================\n",
      "input_5 (InputLayer)            (None, 1)            0                                            \n",
      "__________________________________________________________________________________________________\n",
      "input_6 (InputLayer)            (None, 1)            0                                            \n",
      "__________________________________________________________________________________________________\n",
      "embedding_5 (Embedding)         (None, 1, 100)       94300       input_5[0][0]                    \n",
      "__________________________________________________________________________________________________\n",
      "embedding_6 (Embedding)         (None, 1, 100)       168200      input_6[0][0]                    \n",
      "__________________________________________________________________________________________________\n",
      "dense_7 (Dense)                 (None, 1, 1000)      101000      embedding_5[0][0]                \n",
      "__________________________________________________________________________________________________\n",
      "dense_8 (Dense)                 (None, 1, 1000)      101000      embedding_6[0][0]                \n",
      "__________________________________________________________________________________________________\n",
      "flatten_5 (Flatten)             (None, 1000)         0           dense_7[0][0]                    \n",
      "__________________________________________________________________________________________________\n",
      "flatten_6 (Flatten)             (None, 1000)         0           dense_8[0][0]                    \n",
      "__________________________________________________________________________________________________\n",
      "dot_1 (Dot)                     (None, 1)            0           flatten_5[0][0]                  \n",
      "                                                                 flatten_6[0][0]                  \n",
      "==================================================================================================\n",
      "Total params: 464,500\n",
      "Trainable params: 262,500\n",
      "Non-trainable params: 202,000\n",
      "__________________________________________________________________________________________________\n"
     ]
    }
   ],
   "source": [
    "# define a Sequential model from scratch\n",
    "n_users = max_userid\n",
    "k_factors = 100\n",
    "m_items = max_movieid\n",
    "d_rks = 1000\n",
    "\n",
    "# define a custom activaiton function\n",
    "def cos_rks(x):\n",
    "    return K.cos(x)\n",
    "\n",
    "# define weights\n",
    "from math import pi\n",
    "user_b1 = np.random.uniform(low=0.0, high=pi, size=[d_rks,])\n",
    "user_w1 = np.random.normal(loc=0.0, scale=1.0,size=[k_factors,d_rks])\n",
    "user_weights = [user_w1,user_b1]\n",
    "\n",
    "item_b1 = np.random.uniform(low=0.0, high=pi, size=[d_rks,])\n",
    "item_w1 = np.random.normal(loc=0.0, scale=1.0,size=[k_factors,d_rks])\n",
    "item_weights = [item_w1,item_b1]\n",
    "\n",
    "from keras.layers.merge import concatenate, dot\n",
    "from keras.layers import Embedding, Input, Flatten\n",
    "from keras.models import Model\n",
    "from keras.layers.core import Dense\n",
    "\n",
    "# user features\n",
    "user_input = Input(shape=(1,), dtype='int32')\n",
    "user_embed = Embedding(input_dim=n_users, output_dim=k_factors, input_length=1, trainable=True)(user_input)\n",
    "#user_reshape = Reshape((k_factors,))\n",
    "user_rks = Dense(d_rks, input_dim=k_factors,activation=cos_rks,trainable=False,weights=user_weights)(user_embed)\n",
    "#user_rks.set_weights(user_weights)\n",
    "user_flat = Flatten()(user_rks)\n",
    "\n",
    "# item features\n",
    "item_input = Input(shape=(1,), dtype='int32')\n",
    "item_embed = Embedding(input_dim=m_items, output_dim=k_factors, input_length=1, trainable=True)(item_input)\n",
    "#item_reshape = Reshape((k_factors,))\n",
    "item_rks = Dense(d_rks, input_dim=k_factors,activation=cos_rks,trainable=False,weights=user_weights)(item_embed)\n",
    "#user_rks.set_weights(item_weights)\n",
    "item_flat = Flatten()(item_rks)\n",
    "\n",
    "# Merge\n",
    "merged = concatenate([user_flat, item_flat])\n",
    "\n",
    "# Dense\n",
    "dense_out = Dense(1, activation='linear')(merged)\n",
    "\n",
    "# build and compile model\n",
    "model = Model(inputs=[user_input, item_input], outputs=[dense_out])\n",
    "model.compile(loss='mse', optimizer='adam',metrics=['mae'])\n",
    "model.summary()\n",
    "\n",
    "\n",
    "dot_out = dot([user_flat, item_flat],axes=1,normalize=True)\n",
    "# build and compile model\n",
    "model_dot = Model(inputs=[user_input, item_input], outputs=[dot_out])\n",
    "model_dot.compile(loss='mse', optimizer='adam',metrics=['mae'])\n",
    "model_dot.summary()\n"
   ]
  },
  {
   "cell_type": "code",
   "execution_count": 13,
   "metadata": {},
   "outputs": [
    {
     "name": "stdout",
     "output_type": "stream",
     "text": [
      "Epoch 1/5\n",
      " - 25s - loss: 1.0926 - mean_absolute_error: 0.8275\n",
      "Epoch 2/5\n",
      " - 25s - loss: 1.0338 - mean_absolute_error: 0.8064\n",
      "Epoch 3/5\n",
      " - 24s - loss: 1.0286 - mean_absolute_error: 0.8035\n",
      "Epoch 4/5\n",
      " - 22s - loss: 1.0407 - mean_absolute_error: 0.8070\n",
      "Epoch 5/5\n",
      " - 23s - loss: 1.0435 - mean_absolute_error: 0.8079\n",
      "Epoch 1/5\n",
      " - 33s - loss: 8.2989 - mean_absolute_error: 2.6508\n",
      "Epoch 2/5\n",
      " - 33s - loss: 7.6878 - mean_absolute_error: 2.5347\n",
      "Epoch 3/5\n",
      " - 32s - loss: 7.6847 - mean_absolute_error: 2.5336\n",
      "Epoch 4/5\n",
      " - 32s - loss: 7.6833 - mean_absolute_error: 2.5333\n",
      "Epoch 5/5\n",
      " - 32s - loss: 7.6826 - mean_absolute_error: 2.5331\n"
     ]
    },
    {
     "data": {
      "text/plain": [
       "0.99840218"
      ]
     },
     "execution_count": 13,
     "metadata": {},
     "output_type": "execute_result"
    }
   ],
   "source": [
    "# fit custom model\n",
    "model.fit([Users, Movies], Ratings, epochs=5,verbose=2,batch_size=20)\n",
    "model.predict([np.array([196]), np.array([242])])[0][0]\n",
    "model_dot.fit([Users, Movies], Ratings, epochs=5,verbose=2,batch_size=20)\n",
    "model_dot.predict([np.array([196]), np.array([242])])[0][0]\n"
   ]
  },
  {
   "cell_type": "code",
   "execution_count": 14,
   "metadata": {},
   "outputs": [
    {
     "name": "stdout",
     "output_type": "stream",
     "text": [
      "[304 902 928 902  57]\n",
      "[ 732 1069  134   88  432]\n",
      "[ 3.  4.  5.  4.  5.]\n"
     ]
    },
    {
     "data": {
      "text/plain": [
       "array([[ 3.9414866 ],\n",
       "       [ 3.93495464],\n",
       "       [ 3.93985033],\n",
       "       [ 3.95518446],\n",
       "       [ 3.95229721]], dtype=float32)"
      ]
     },
     "execution_count": 14,
     "metadata": {},
     "output_type": "execute_result"
    }
   ],
   "source": [
    "print(Users[:5])\n",
    "print(Movies[:5])\n",
    "print(Ratings[:5])\n",
    "model.predict([np.array([304,902,928,902,57]), np.array([732,1069,134,88,432])])"
   ]
  },
  {
   "cell_type": "code",
   "execution_count": 17,
   "metadata": {},
   "outputs": [
    {
     "name": "stdout",
     "output_type": "stream",
     "text": [
      "Saved model to disk\n",
      "Loaded model from disk\n",
      "__________________________________________________________________________________________________\n",
      "Layer (type)                    Output Shape         Param #     Connected to                     \n",
      "==================================================================================================\n",
      "input_5 (InputLayer)            (None, 1)            0                                            \n",
      "__________________________________________________________________________________________________\n",
      "input_6 (InputLayer)            (None, 1)            0                                            \n",
      "__________________________________________________________________________________________________\n",
      "embedding_5 (Embedding)         (None, 1, 100)       94300       input_5[0][0]                    \n",
      "__________________________________________________________________________________________________\n",
      "embedding_6 (Embedding)         (None, 1, 100)       168200      input_6[0][0]                    \n",
      "__________________________________________________________________________________________________\n",
      "dense_7 (Dense)                 (None, 1, 1000)      101000      embedding_5[0][0]                \n",
      "__________________________________________________________________________________________________\n",
      "dense_8 (Dense)                 (None, 1, 1000)      101000      embedding_6[0][0]                \n",
      "__________________________________________________________________________________________________\n",
      "flatten_5 (Flatten)             (None, 1000)         0           dense_7[0][0]                    \n",
      "__________________________________________________________________________________________________\n",
      "flatten_6 (Flatten)             (None, 1000)         0           dense_8[0][0]                    \n",
      "__________________________________________________________________________________________________\n",
      "concatenate_3 (Concatenate)     (None, 2000)         0           flatten_5[0][0]                  \n",
      "                                                                 flatten_6[0][0]                  \n",
      "__________________________________________________________________________________________________\n",
      "dense_9 (Dense)                 (None, 1)            2001        concatenate_3[0][0]              \n",
      "==================================================================================================\n",
      "Total params: 466,501\n",
      "Trainable params: 264,501\n",
      "Non-trainable params: 202,000\n",
      "__________________________________________________________________________________________________\n",
      "Epoch 1/5\n",
      " - 25s - loss: 1.0670 - mean_absolute_error: 0.8212\n",
      "Epoch 2/5\n",
      " - 25s - loss: 1.0109 - mean_absolute_error: 0.7957\n",
      "Epoch 3/5\n",
      " - 23s - loss: 1.0198 - mean_absolute_error: 0.7991\n",
      "Epoch 4/5\n",
      " - 22s - loss: 1.0268 - mean_absolute_error: 0.8015\n",
      "Epoch 5/5\n",
      " - 23s - loss: 1.0317 - mean_absolute_error: 0.8035\n"
     ]
    },
    {
     "data": {
      "text/plain": [
       "2.037231"
      ]
     },
     "execution_count": 17,
     "metadata": {},
     "output_type": "execute_result"
    }
   ],
   "source": [
    "# serialize model to JSON\n",
    "from keras.models import model_from_json\n",
    "\n",
    "model_json = model.to_json()\n",
    "with open(\"CF_model.json\", \"w\") as json_file:\n",
    "    json_file.write(model_json)\n",
    "# serialize weights to HDF5\n",
    "model.save_weights(\"CF_model.h5\")\n",
    "print(\"Saved model to disk\")\n",
    " \n",
    "\n",
    " # load json and create model\n",
    "json_file = open('CF_model.json', 'r')\n",
    "loaded_model = model_from_json(json_file.read(), custom_objects={'cos_rks': cos_rks})\n",
    "json_file.close()\n",
    "\n",
    "# load weights into new model\n",
    "loaded_model.load_weights(\"CF_model.h5\")\n",
    "print(\"Loaded model from disk\")\n",
    "\n",
    "loaded_model.compile(loss='mse', optimizer='adam',metrics=['mae'])\n",
    "loaded_model.summary()\n",
    "loaded_model.fit([Users, Movies], Ratings, epochs=5,verbose=2,batch_size=20)\n",
    "loaded_model.predict([np.array([196]), np.array([242])])[0][0]"
   ]
  },
  {
   "cell_type": "code",
   "execution_count": null,
   "metadata": {},
   "outputs": [],
   "source": []
  }
 ],
 "metadata": {
  "kernelspec": {
   "display_name": "Python 3",
   "language": "python",
   "name": "python3"
  },
  "language_info": {
   "codemirror_mode": {
    "name": "ipython",
    "version": 3
   },
   "file_extension": ".py",
   "mimetype": "text/x-python",
   "name": "python",
   "nbconvert_exporter": "python",
   "pygments_lexer": "ipython3",
   "version": "3.6.0"
  }
 },
 "nbformat": 4,
 "nbformat_minor": 2
}
