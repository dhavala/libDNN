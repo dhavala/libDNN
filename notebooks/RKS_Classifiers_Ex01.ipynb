{
 "cells": [
  {
   "cell_type": "code",
   "execution_count": 1,
   "metadata": {},
   "outputs": [
    {
     "name": "stderr",
     "output_type": "stream",
     "text": [
      "Using TensorFlow backend.\n",
      "/usr/local/Cellar/python3/3.6.0_1/Frameworks/Python.framework/Versions/3.6/lib/python3.6/importlib/_bootstrap.py:205: RuntimeWarning: compiletime version 3.5 of module 'tensorflow.python.framework.fast_tensor_util' does not match runtime version 3.6\n",
      "  return f(*args, **kwds)\n"
     ]
    }
   ],
   "source": [
    "# import required modules\n",
    "import numpy as np\n",
    "import pandas as pd\n",
    "from keras.models import Sequential\n",
    "from keras import backend as K\n",
    "from keras.layers import Dense, Dropout, Activation\n",
    "\n",
    "from keras.wrappers.scikit_learn import KerasClassifier\n",
    "from keras.utils import np_utils\n",
    "from sklearn.model_selection import cross_val_score\n",
    "from sklearn.model_selection import KFold\n",
    "from sklearn.preprocessing import LabelEncoder\n",
    "from sklearn.pipeline import Pipeline\n",
    "from sklearn import datasets\n",
    "\n",
    "from scipy import stats"
   ]
  },
  {
   "cell_type": "code",
   "execution_count": 2,
   "metadata": {},
   "outputs": [],
   "source": [
    "# fix random seed for reproducibility\n",
    "seed = 7\n",
    "np.random.seed(seed)\n",
    "iris = datasets.load_iris()"
   ]
  },
  {
   "cell_type": "code",
   "execution_count": 3,
   "metadata": {},
   "outputs": [],
   "source": [
    "# get Iris data from UCI or from scikit-learn datasets\n",
    "url = \"http://archive.ics.uci.edu/ml/machine-learning-databases/iris/iris.data\"\n",
    "dataframe = pd.read_csv(url,header=None)\n",
    "dataset = dataframe.values\n",
    "X = dataset[:,0:4].astype(float)\n",
    "Y = dataset[:,4]\n",
    "\n",
    "from sklearn.datasets import load_iris\n",
    "iris  = load_iris()\n",
    "df = pd.DataFrame(iris.data)\n",
    "target = pd.DataFrame(iris.target)"
   ]
  },
  {
   "cell_type": "code",
   "execution_count": 4,
   "metadata": {},
   "outputs": [],
   "source": [
    "# encode class values as integers\n",
    "encoder = LabelEncoder()\n",
    "encoder.fit(Y)\n",
    "encoded_Y = encoder.transform(Y)\n",
    "# convert integers to dummy variables (i.e. one hot encoded)\n",
    "dummy_y = np_utils.to_categorical(encoded_Y)"
   ]
  },
  {
   "cell_type": "code",
   "execution_count": 5,
   "metadata": {},
   "outputs": [
    {
     "name": "stdout",
     "output_type": "stream",
     "text": [
      "Baseline_svm: 97.33% (3.27%)\n",
      "Baseline_Lin_svm: 93.33% (8.94%)\n",
      "Baseline_rbf_svm: 97.33% (4.42%)\n",
      "Baseline_poly_svm: 94.00% (6.96%)\n"
     ]
    }
   ],
   "source": [
    "# run standard SVM classifiers available in scikit-learn\n",
    "kfold_b1 = KFold(n_splits=10, shuffle=True, random_state=seed)\n",
    "\n",
    "C = 1.0  # SVM regularization parameter\n",
    "from sklearn import svm\n",
    "# SVC with linear kernel\n",
    "svc = svm.SVC(kernel='linear', C=C)\n",
    "results_a1 = cross_val_score(svc, X, Y, cv=kfold_b1)\n",
    "print(\"Baseline_svm: %.2f%% (%.2f%%)\" % (results_a1.mean()*100, results_a1.std()*100))\n",
    "lin_svc = svm.LinearSVC(C=C)\n",
    "results_a1 = cross_val_score(lin_svc, X, Y, cv=kfold_b1)\n",
    "print(\"Baseline_Lin_svm: %.2f%% (%.2f%%)\" % (results_a1.mean()*100, results_a1.std()*100))\n",
    "rbf_svc = svm.SVC(kernel='rbf', gamma=0.7, C=C)\n",
    "results_a1 = cross_val_score(rbf_svc, X, Y, cv=kfold_b1)\n",
    "print(\"Baseline_rbf_svm: %.2f%% (%.2f%%)\" % (results_a1.mean()*100, results_a1.std()*100))\n",
    "poly_svc = svm.SVC(kernel='poly', degree=3, C=C)\n",
    "results_a1 = cross_val_score(poly_svc, X, Y, cv=kfold_b1)\n",
    "print(\"Baseline_poly_svm: %.2f%% (%.2f%%)\" % (results_a1.mean()*100, results_a1.std()*100))"
   ]
  },
  {
   "cell_type": "code",
   "execution_count": 6,
   "metadata": {},
   "outputs": [],
   "source": [
    "# define baseline model (non-linear logistic regression with DNNs)\n",
    "def baseline_model_logistic():\n",
    "    # create model\n",
    "    model = Sequential()\n",
    "    model.add(Dense(8, input_dim=4, activation='relu'))\n",
    "    model.add(Dropout(0.2))\n",
    "    model.add(Dense(16, input_dim=8, activation='relu'))\n",
    "    model.add(Dropout(0.2))\n",
    "    model.add(Dense(3, activation='softmax'))\n",
    "    # Compile model\n",
    "    model.compile(loss='categorical_crossentropy', optimizer='adam', metrics=['accuracy'])\n",
    "    return model"
   ]
  },
  {
   "cell_type": "code",
   "execution_count": 7,
   "metadata": {},
   "outputs": [
    {
     "name": "stdout",
     "output_type": "stream",
     "text": [
      "rbf map SVC: 0.986666666667\n",
      "nys map SVC: 0.986666666667\n"
     ]
    }
   ],
   "source": [
    "# map data by non-linear transforms\n",
    "# non-linear maps approximate the kernels\n",
    "d = 150\n",
    "X.shape\n",
    "from sklearn.kernel_approximation import (RBFSampler,Nystroem)\n",
    "feature_map_fourier = RBFSampler(gamma=.2, random_state=1,n_components=d)\n",
    "feature_map_nystroem = Nystroem(gamma=.2, random_state=1,n_components=d)\n",
    "\n",
    "X_rbf = feature_map_fourier.fit_transform(X)\n",
    "X_nys = feature_map_nystroem.fit_transform(X)\n",
    "\n",
    "# LinearSVC (linear kernel)\n",
    "lin_svc_rbf = svm.LinearSVC(C=C).fit(X_rbf, Y)\n",
    "print(\"rbf map SVC: \" + str(lin_svc_rbf.score(X_rbf, Y)))\n",
    "# LinearSVC (linear kernel)\n",
    "lin_svc_nys = svm.LinearSVC(C=C).fit(X_nys, Y)\n",
    "print(\"nys map SVC: \" + str(lin_svc_nys.score(X_nys, Y)))"
   ]
  },
  {
   "cell_type": "code",
   "execution_count": 8,
   "metadata": {},
   "outputs": [],
   "source": [
    "# define baseline model\n",
    "# this is a single layer feedforward network (SLFN)\n",
    "def baseline_model_RKS():\n",
    "    # create model\n",
    "    model = Sequential()\n",
    "    model.add(Dense(3, input_dim=150, activation='softmax'))\n",
    "    #model.add(Dropout(0.2))\n",
    "    # Compile model\n",
    "    # model.compile(loss='categorical_crossentropy', optimizer='adam', metrics=['accuracy'])\n",
    "    model.compile(loss='categorical_crossentropy', optimizer='adam', metrics=['accuracy'])\n",
    "    return model"
   ]
  },
  {
   "cell_type": "code",
   "execution_count": 9,
   "metadata": {},
   "outputs": [
    {
     "name": "stdout",
     "output_type": "stream",
     "text": [
      "Baseline_logistic: 97.33% (3.27%)\n",
      "rks_rbf: 94.67% (7.77%)\n",
      "rks_nys: 95.33% (6.70%)\n"
     ]
    }
   ],
   "source": [
    "# fit SLFNs with non-linear feature maps\n",
    "estimator_b1 = KerasClassifier(build_fn=baseline_model_logistic, epochs=200, batch_size=5, verbose=0)\n",
    "estimator_b2 = KerasClassifier(build_fn=baseline_model_RKS, epochs=200, batch_size=50, verbose=0)\n",
    "estimator_b3 = KerasClassifier(build_fn=baseline_model_RKS, epochs=200, batch_size=50, verbose=0)\n",
    "\n",
    "kfold_b1 = KFold(n_splits=10, shuffle=True, random_state=seed)\n",
    "results_b1 = cross_val_score(estimator_b1, X, dummy_y, cv=kfold_b1)\n",
    "print(\"Baseline_logistic: %.2f%% (%.2f%%)\" % (results_b1.mean()*100, results_b1.std()*100))\n",
    "\n",
    "kfold_b2 = KFold(n_splits=10, shuffle=True, random_state=seed)\n",
    "results_b2 = cross_val_score(estimator_b2, X_rbf, dummy_y, cv=kfold_b2)\n",
    "print(\"rks_rbf: %.2f%% (%.2f%%)\" % (results_b2.mean()*100, results_b2.std()*100))\n",
    "\n",
    "kfold_b3 = KFold(n_splits=10, shuffle=True, random_state=seed)\n",
    "results_b3 = cross_val_score(estimator_b3, X_nys, dummy_y, cv=kfold_b3)\n",
    "print(\"rks_nys: %.2f%% (%.2f%%)\" % (results_b3.mean()*100, results_b3.std()*100))"
   ]
  },
  {
   "cell_type": "code",
   "execution_count": 10,
   "metadata": {},
   "outputs": [
    {
     "name": "stdout",
     "output_type": "stream",
     "text": [
      "linear SVC: 0.993333333333\n",
      "rbf SVC: 0.98\n",
      "poly SVC: 0.98\n"
     ]
    }
   ],
   "source": [
    "# vanilla SVMs with errors measured on entire dataset\n",
    "C = 1.0  # SVM regularization parameter\n",
    "from sklearn import svm\n",
    "# SVC with linear kernel\n",
    "svc = svm.SVC(kernel='linear', C=C).fit(X, Y)\n",
    "# LinearSVC (linear kernel)\n",
    "lin_svc = svm.LinearSVC(C=C).fit(X, Y)\n",
    "# SVC with RBF kernel\n",
    "rbf_svc = svm.SVC(kernel='rbf', gamma=0.7, C=C).fit(X, Y)\n",
    "# SVC with polynomial (degree 3) kernel\n",
    "poly_svc = svm.SVC(kernel='poly', degree=3, C=C).fit(X, Y)\n",
    "print(\"linear SVC: \" + str(svc.score(X, Y)))\n",
    "print(\"rbf SVC: \" + str(rbf_svc.score(X, Y)))\n",
    "print(\"poly SVC: \" + str(poly_svc.score(X, Y)))"
   ]
  },
  {
   "cell_type": "markdown",
   "metadata": {},
   "source": [
    "Setting up DNNs with \"cosine\" activation functions to mimic Kernel Approximations"
   ]
  },
  {
   "cell_type": "code",
   "execution_count": 11,
   "metadata": {},
   "outputs": [
    {
     "name": "stdout",
     "output_type": "stream",
     "text": [
      "                0           1           2           3\n",
      "count  150.000000  150.000000  150.000000  150.000000\n",
      "mean    -0.142593   -0.121667   -0.064859   -0.084444\n",
      "std      0.460037    0.361329    0.598109    0.635967\n",
      "min     -1.000000   -1.000000   -1.000000   -1.000000\n",
      "25%     -0.555556   -0.333333   -0.796610   -0.833333\n",
      "50%     -0.166667   -0.166667    0.135593    0.000000\n",
      "75%      0.166667    0.083333    0.389831    0.416667\n",
      "max      1.000000    1.000000    1.000000    1.000000\n"
     ]
    }
   ],
   "source": [
    "# just to scale feature to [-1,1] for improved stability\n",
    "from sklearn.datasets import load_iris\n",
    "iris  = load_iris()\n",
    "df = pd.DataFrame(iris.data)\n",
    "target = pd.DataFrame(iris.target)\n",
    "\n",
    "# standardize features (rescale to -1 to 1)\n",
    "df=(df-df.min())/(df.max()-df.min())\n",
    "df = (2*df-1)\n",
    "print(df.describe())"
   ]
  },
  {
   "cell_type": "code",
   "execution_count": 12,
   "metadata": {},
   "outputs": [
    {
     "name": "stdout",
     "output_type": "stream",
     "text": [
      "(4, 8)\n",
      "(8,)\n",
      "(8, 16)\n",
      "(16,)\n"
     ]
    }
   ],
   "source": [
    "# see how to access weights and biases of a layer in keras\n",
    "# test the weight sizes of a known model\n",
    "model = Sequential()\n",
    "model.add(Dense(8, input_dim=4, activation='relu',name=\"h1\"))\n",
    "model.add(Dense(16, input_dim=8, activation='relu',name=\"h2\"))\n",
    "model.add(Dense(3, activation='softmax',name=\"out\"))\n",
    "# Compile model\n",
    "model.compile(loss='categorical_crossentropy', optimizer='adam', metrics=['accuracy'])\n",
    "# Fit the model\n",
    "model.fit(X, dummy_y, epochs=150, batch_size=10,verbose=0)\n",
    "w1 = model.layers[0].get_weights()[0]\n",
    "b1 = model.layers[0].get_weights()[1]\n",
    "w2 = model.layers[1].get_weights()[0]\n",
    "b2  = model.layers[1].get_weights()[1]\n",
    "print(w1.shape)\n",
    "print(b1.shape)\n",
    "print(w2.shape)\n",
    "print(b2.shape)"
   ]
  },
  {
   "cell_type": "code",
   "execution_count": 13,
   "metadata": {},
   "outputs": [
    {
     "name": "stdout",
     "output_type": "stream",
     "text": [
      "(4, 150)\n",
      "(150,)\n",
      "(150, 150)\n",
      "linear SVC with RKS: 0.993333333333\n",
      "DescribeResult(nobs=150, minmax=(0, 1), mean=0.0066666666666666671, variance=0.0066666666666666619, skewness=12.124632423681811, kurtosis=145.00671140939625)\n"
     ]
    }
   ],
   "source": [
    "# test random kitchen sink idea\n",
    "# sample bias(b) uniformly on (0,2pi)and weights(w) on normal\n",
    "# feature map = cos(wx+b)\n",
    "from math import pi\n",
    "b1 = np.random.uniform(low=0.0, high=pi, size=[150,])\n",
    "w1 = np.random.normal(loc=0.0, scale=1.0,size=[4,150])\n",
    "weights = [w1,b1]\n",
    "X_rks = np.cos(np.matmul(X,w1)+b1)\n",
    "print(weights[0].shape)\n",
    "print(weights[1].shape)\n",
    "print(X_rks.shape)\n",
    "\n",
    "lin_svc = svm.LinearSVC(C=C).fit(X_rks, Y)\n",
    "print(\"linear SVC with RKS: \" + str(lin_svc.score(X_rks, Y)))\n",
    "Yhat = lin_svc.predict(X_rks)\n",
    "encoded_Yhat = encoder.fit_transform(Yhat)\n",
    "# make sure that weights given and accessed are same (almost)\n",
    "print(stats.describe(encoded_Yhat-encoded_Y))"
   ]
  },
  {
   "cell_type": "markdown",
   "metadata": {},
   "source": [
    "set DNN where first layer is frozen and initialized with random_kitchen_sink weights and activation is cosine"
   ]
  },
  {
   "cell_type": "code",
   "execution_count": 14,
   "metadata": {},
   "outputs": [
    {
     "name": "stdout",
     "output_type": "stream",
     "text": [
      "rks_with_logistic: 90.00% (7.45%)\n"
     ]
    }
   ],
   "source": [
    "# define a custom activaiton function\n",
    "def cos_rks(x):\n",
    "    return K.cos(x)\n",
    "# define a custom DNN where first layer gives non-linear maps\n",
    "# second layer simply weights them linearly\n",
    "def rks_logistic():\n",
    "    model = Sequential()\n",
    "    model.add(Dense(150, input_dim=4, activation=cos_rks,name=\"rks\",trainable=False))\n",
    "    model.add(Dense(3, input_dim=150, activation='softmax',name=\"out\"))\n",
    "    model.layers[0].set_weights(weights)\n",
    "    model.compile(loss='categorical_crossentropy', optimizer='adam', metrics=['accuracy'])\n",
    "    return model\n",
    "# Fit the model\n",
    "# model.fit(X, dummy_y, epochs=10, batch_size=10,verbose=0)\n",
    "\n",
    "estimator_rks = KerasClassifier(build_fn=baseline_model_logistic, epochs=50, batch_size=20, verbose=0)\n",
    "kfold_b1 = KFold(n_splits=10, shuffle=True, random_state=seed)\n",
    "results_b1 = cross_val_score(estimator_rks, X, dummy_y, cv=kfold_b1)\n",
    "print(\"rks_with_logistic: %.2f%% (%.2f%%)\" % (results_b1.mean()*100, results_b1.std()*100))\n",
    "\n",
    "#w1r = model.layers[0].get_weights()[0]\n",
    "#b1r = model.layers[0].get_weights()[1]\n",
    "#w2r = model.layers[1].get_weights()[0]\n",
    "#b2r  = model.layers[1].get_weights()[1]\n",
    "#print(w1r.shape)\n",
    "#print(b1r.shape)\n",
    "#print(w2r.shape)\n",
    "#print(b2r.shape)"
   ]
  }
 ],
 "metadata": {
  "kernelspec": {
   "display_name": "Python 3",
   "language": "python",
   "name": "python3"
  },
  "language_info": {
   "codemirror_mode": {
    "name": "ipython",
    "version": 3
   },
   "file_extension": ".py",
   "mimetype": "text/x-python",
   "name": "python",
   "nbconvert_exporter": "python",
   "pygments_lexer": "ipython3",
   "version": "3.6.0"
  }
 },
 "nbformat": 4,
 "nbformat_minor": 2
}
